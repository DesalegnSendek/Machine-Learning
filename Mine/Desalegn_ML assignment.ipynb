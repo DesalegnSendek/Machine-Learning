{
 "cells": [
  {
   "cell_type": "markdown",
   "id": "411768fc-a35c-4a5e-8ee8-801cc4d6547f",
   "metadata": {},
   "source": [
    "# Individual Assignment\n",
    "## Course: Machine Learning\n",
    "\n",
    "**Student Details:**\n",
    "- <h5>Name: Desalegn Sendek</h5>\n",
    "- <h5>ID: ETS 1553/13</h5>\n",
    "- Section: C\n",
    "- Department: Software Engineering\n",
    "- Addis Ababa Science and Technology University (AASTU)\n",
    "\n",
    "**Submitted To:**\n",
    "- Mr. Fedlu N\n",
    "- Submission data: April 25-2024"
   ]
  },
  {
   "cell_type": "code",
   "execution_count": 1,
   "id": "05b60878-fb62-4725-80d5-2d98e3817cda",
   "metadata": {},
   "outputs": [],
   "source": [
    "# Import the necessary libraries\n",
    "import pandas as pd\n",
    "import numpy as np\n",
    "import csv\n",
    "#import matplotlib.pylab as plt\n",
    "#import matplotlib "
   ]
  },
  {
   "cell_type": "markdown",
   "id": "502963c2-a6f3-44ef-85aa-80e65df9cd14",
   "metadata": {},
   "source": [
    "<h4>\n",
    "    Series\n",
    "</h4>"
   ]
  },
  {
   "cell_type": "code",
   "execution_count": 2,
   "id": "401d5a8f-f664-48fb-ad06-65806e61dd1d",
   "metadata": {},
   "outputs": [
    {
     "name": "stdout",
     "output_type": "stream",
     "text": [
      "0    1\n",
      "1    2\n",
      "2    3\n",
      "3    4\n",
      "4    5\n",
      "dtype: int64\n"
     ]
    }
   ],
   "source": [
    "# Create a list of numbers\n",
    "numbers = [1, 2, 3, 4, 5]\n",
    "\n",
    "# Convert the list to a series\n",
    "series = pd.Series(numbers)\n",
    "\n",
    "# Print the series\n",
    "print(series)"
   ]
  },
  {
   "cell_type": "code",
   "execution_count": 3,
   "id": "92059728-ccc5-4af6-b2e4-31dedc425ef7",
   "metadata": {},
   "outputs": [
    {
     "name": "stdout",
     "output_type": "stream",
     "text": [
      "\n",
      "Indexing\n",
      "3\n",
      "\n",
      "Slicing\n",
      "[2, 3, 4]\n",
      "\n",
      "Arithmetic\n",
      "[1, 2, 3, 4, 5, 1, 2, 3, 4, 5]\n"
     ]
    }
   ],
   "source": [
    "# Indexing\n",
    "print(\"\\nIndexing\")\n",
    "print(numbers[2])\n",
    "\n",
    "# Slicing\n",
    "print(\"\\nSlicing\")\n",
    "print(numbers[1:4])\n",
    "\n",
    "# Arithmetic\n",
    "print(\"\\nArithmetic\")\n",
    "print(numbers * 2)"
   ]
  },
  {
   "cell_type": "code",
   "execution_count": 4,
   "id": "978c3942-53f4-4926-be38-df5215cea638",
   "metadata": {},
   "outputs": [
    {
     "name": "stdout",
     "output_type": "stream",
     "text": [
      "\n",
      "Series from dictionary:\n",
      "a    1\n",
      "b    2\n",
      "c    3\n",
      "d    4\n",
      "e    5\n",
      "dtype: int64\n"
     ]
    }
   ],
   "source": [
    "#dictionary\n",
    "dictionary = {'a': 1, 'b': 2, 'c': 3, 'd': 4, 'e': 5}\n",
    "series_ = pd.Series(dictionary)\n",
    "print(\"\\nSeries from dictionary:\")\n",
    "print(series_)"
   ]
  },
  {
   "cell_type": "code",
   "execution_count": 5,
   "id": "cdf8a966-639b-40c5-a5ee-faa157e56ae4",
   "metadata": {},
   "outputs": [
    {
     "name": "stdout",
     "output_type": "stream",
     "text": [
      "\n",
      "Indexing\n",
      "2\n",
      "\n",
      "Slicing\n",
      "b    2\n",
      "c    3\n",
      "d    4\n",
      "dtype: int64\n",
      "\n",
      "Arithmetic\n",
      "a     2\n",
      "b     4\n",
      "c     6\n",
      "d     8\n",
      "e    10\n",
      "dtype: int64\n"
     ]
    }
   ],
   "source": [
    "# some operations on Dictionary\n",
    "# Indexing\n",
    "print(\"\\nIndexing\")\n",
    "print(series_['b'])\n",
    "\n",
    "# Slicing\n",
    "print(\"\\nSlicing\")\n",
    "print(series_['b':'d'])\n",
    "\n",
    "# Arithmetic\n",
    "print(\"\\nArithmetic\")\n",
    "print(series_ * 2)\n"
   ]
  },
  {
   "cell_type": "markdown",
   "id": "e3e7b7e8-42b8-4791-ad38-33e4fe8523eb",
   "metadata": {},
   "source": [
    "<h4>\n",
    "    Creating dataframe and make use pandas library\n",
    "</h4>"
   ]
  },
  {
   "cell_type": "code",
   "execution_count": 6,
   "id": "9b23bfc0-d85a-4a5f-be63-1787721c9692",
   "metadata": {},
   "outputs": [
    {
     "name": "stdout",
     "output_type": "stream",
     "text": [
      "Initial data frame:\n",
      "     Name  Age   Country\n",
      "0   Ujulu   26     Kenya\n",
      "1  Masiwa   32    Uganda\n",
      "2     Ali   31  Ethiopia\n",
      "3  Mosnet   28  Tanzania\n"
     ]
    }
   ],
   "source": [
    "# Create a dictionary with data\n",
    "data = {'Name': ['Ujulu', 'Masiwa', 'Ali', 'Mosnet'],\n",
    "        'Age': [26, 32, 31, 28],\n",
    "        'Country': ['Kenya', 'Uganda', 'Ethiopia', 'Tanzania']}\n",
    "\n",
    "# Convert the dictionary to a data frame\n",
    "df = pd.DataFrame(data)\n",
    "\n",
    "# Print the initial data frame\n",
    "print(\"Initial data frame:\")\n",
    "print(df)"
   ]
  },
  {
   "cell_type": "code",
   "execution_count": 7,
   "id": "74a788cf-8aa9-4479-b186-d1e40e4a762c",
   "metadata": {},
   "outputs": [],
   "source": [
    "# Update a value in the data frame\n",
    "df.at[0, 'Age'] = 28"
   ]
  },
  {
   "cell_type": "code",
   "execution_count": 8,
   "id": "f82f80ab-c150-4d86-b178-07339dda05a0",
   "metadata": {},
   "outputs": [],
   "source": [
    "# Add a new column to the data frame\n",
    "df['City'] = ['Jimma','Addis Ababa', 'Nairobi', 'Mombassa']"
   ]
  },
  {
   "cell_type": "code",
   "execution_count": 9,
   "id": "3c3fef9d-3d4c-481c-af12-2750829f2611",
   "metadata": {},
   "outputs": [],
   "source": [
    "# Delete a column from the data frame\n",
    "# df.drop('Country', axis=1, inplace=True)"
   ]
  },
  {
   "cell_type": "code",
   "execution_count": 10,
   "id": "710058b1-2df8-491a-8e70-c5997b494563",
   "metadata": {},
   "outputs": [
    {
     "name": "stdout",
     "output_type": "stream",
     "text": [
      "\n",
      "Updated data frame:\n",
      "     Name  Age   Country         City\n",
      "0   Ujulu   28     Kenya        Jimma\n",
      "1  Masiwa   32    Uganda  Addis Ababa\n",
      "2     Ali   31  Ethiopia      Nairobi\n",
      "3  Mosnet   28  Tanzania     Mombassa\n"
     ]
    }
   ],
   "source": [
    "# Print the updated data frame\n",
    "print(\"\\nUpdated data frame:\")\n",
    "print(df)"
   ]
  },
  {
   "cell_type": "markdown",
   "id": "4b4c309a-667d-44e0-998e-df63ba47a9f3",
   "metadata": {},
   "source": [
    "<h4>\n",
    "    Downloading file from kaggle.com and Importing the csv file from local machine \n",
    "</h4>"
   ]
  },
  {
   "cell_type": "code",
   "execution_count": 11,
   "id": "ddbc574d-2724-4707-91b4-5a4bff4c265b",
   "metadata": {},
   "outputs": [
    {
     "name": "stdout",
     "output_type": "stream",
     "text": [
      "          ID  BOROUGH   NEIGHBORHOOD  \\\n",
      "0          0        1  ALPHABET CITY   \n",
      "1          1        1  ALPHABET CITY   \n",
      "2          2        1  ALPHABET CITY   \n",
      "3          4        1  ALPHABET CITY   \n",
      "4          5        1  ALPHABET CITY   \n",
      "...      ...      ...            ...   \n",
      "67633  84541        5        WOODROW   \n",
      "67634  84542        5        WOODROW   \n",
      "67635  84543        5        WOODROW   \n",
      "67636  84545        5        WOODROW   \n",
      "67637  84546        5        WOODROW   \n",
      "\n",
      "                           BUILDING CLASS CATEGORY TAX CLASS AT PRESENT  \\\n",
      "0      07 RENTALS - WALKUP APARTMENTS                                2A   \n",
      "1      07 RENTALS - WALKUP APARTMENTS                                 2   \n",
      "2      07 RENTALS - WALKUP APARTMENTS                                 2   \n",
      "3      07 RENTALS - WALKUP APARTMENTS                                2A   \n",
      "4      07 RENTALS - WALKUP APARTMENTS                                 2   \n",
      "...                                            ...                  ...   \n",
      "67633  02 TWO FAMILY DWELLINGS                                        1   \n",
      "67634  02 TWO FAMILY DWELLINGS                                        1   \n",
      "67635  02 TWO FAMILY DWELLINGS                                        1   \n",
      "67636  02 TWO FAMILY DWELLINGS                                        1   \n",
      "67637  22 STORE BUILDINGS                                             4   \n",
      "\n",
      "       BLOCK  LOT EASE-MENT BUILDING CLASS AT PRESENT                 ADDRESS  \\\n",
      "0        392    6                                  C2            153 AVENUE B   \n",
      "1        399   26                                  C7   234 EAST 4TH   STREET   \n",
      "2        399   39                                  C7   197 EAST 3RD   STREET   \n",
      "3        404   55                                  C2  301 EAST 10TH   STREET   \n",
      "4        405   16                                  C4  516 EAST 12TH   STREET   \n",
      "...      ...  ...       ...                       ...                     ...   \n",
      "67633   7317  126                                  B2         112 ROBIN COURT   \n",
      "67634   7339   41                                  B9          41 SONIA COURT   \n",
      "67635   7349   34                                  B9           37 QUAIL LANE   \n",
      "67636   7351   60                                  B2        49 PITNEY AVENUE   \n",
      "67637   7100   28                                  K6   2730 ARTHUR KILL ROAD   \n",
      "\n",
      "       ... RESIDENTIAL UNITS  COMMERCIAL UNITS  TOTAL UNITS  LAND SQUARE FEET  \\\n",
      "0      ...                 5                 0            5              1633   \n",
      "1      ...                28                 3           31              4616   \n",
      "2      ...                16                 1           17              2212   \n",
      "3      ...                 6                 0            6              2369   \n",
      "4      ...                20                 0           20              2581   \n",
      "...    ...               ...               ...          ...               ...   \n",
      "67633  ...                 2                 0            2             11088   \n",
      "67634  ...                 2                 0            2              3020   \n",
      "67635  ...                 2                 0            2              2400   \n",
      "67636  ...                 2                 0            2              4000   \n",
      "67637  ...                 0                 7            7            208033   \n",
      "\n",
      "       GROSS SQUARE FEET YEAR BUILT TAX CLASS AT TIME OF SALE  \\\n",
      "0                   6440       1900                         2   \n",
      "1                  18690       1900                         2   \n",
      "2                   7803       1900                         2   \n",
      "3                   4615       1900                         2   \n",
      "4                   9730       1900                         2   \n",
      "...                  ...        ...                       ...   \n",
      "67633               2160       1994                         1   \n",
      "67634               1800       1997                         1   \n",
      "67635               2575       1998                         1   \n",
      "67636               1496       1925                         1   \n",
      "67637              64117       2001                         4   \n",
      "\n",
      "       BUILDING CLASS AT TIME OF SALE        SALE DATE SALE PRICE  \n",
      "0                                  C2   7/19/2017 0:00    6625000  \n",
      "1                                  C7  12/14/2016 0:00        -    \n",
      "2                                  C7   12/9/2016 0:00        -    \n",
      "3                                  C2  11/17/2016 0:00    8000000  \n",
      "4                                  C4   7/20/2017 0:00        -    \n",
      "...                               ...              ...        ...  \n",
      "67633                              B2   12/7/2016 0:00     648000  \n",
      "67634                              B9   12/1/2016 0:00        -    \n",
      "67635                              B9  11/28/2016 0:00     450000  \n",
      "67636                              B2    7/5/2017 0:00     460000  \n",
      "67637                              K6  12/21/2016 0:00   11693337  \n",
      "\n",
      "[67638 rows x 22 columns]\n"
     ]
    }
   ],
   "source": [
    "# Load the .csv data from local storage\n",
    "df = pd.read_csv(\"C:/Users/dess/Downloads/home_sales.csv\")\n",
    "\n",
    "# Print the data frame\n",
    "print(df)"
   ]
  },
  {
   "cell_type": "code",
   "execution_count": 12,
   "id": "7f3307cf-0b17-4917-a68a-f0f313a9dcb1",
   "metadata": {},
   "outputs": [
    {
     "data": {
      "text/html": [
       "<div>\n",
       "<style scoped>\n",
       "    .dataframe tbody tr th:only-of-type {\n",
       "        vertical-align: middle;\n",
       "    }\n",
       "\n",
       "    .dataframe tbody tr th {\n",
       "        vertical-align: top;\n",
       "    }\n",
       "\n",
       "    .dataframe thead th {\n",
       "        text-align: right;\n",
       "    }\n",
       "</style>\n",
       "<table border=\"1\" class=\"dataframe\">\n",
       "  <thead>\n",
       "    <tr style=\"text-align: right;\">\n",
       "      <th></th>\n",
       "      <th>ID</th>\n",
       "      <th>BOROUGH</th>\n",
       "      <th>NEIGHBORHOOD</th>\n",
       "      <th>BUILDING CLASS CATEGORY</th>\n",
       "      <th>TAX CLASS AT PRESENT</th>\n",
       "      <th>BLOCK</th>\n",
       "      <th>LOT</th>\n",
       "      <th>EASE-MENT</th>\n",
       "      <th>BUILDING CLASS AT PRESENT</th>\n",
       "      <th>ADDRESS</th>\n",
       "      <th>...</th>\n",
       "      <th>RESIDENTIAL UNITS</th>\n",
       "      <th>COMMERCIAL UNITS</th>\n",
       "      <th>TOTAL UNITS</th>\n",
       "      <th>LAND SQUARE FEET</th>\n",
       "      <th>GROSS SQUARE FEET</th>\n",
       "      <th>YEAR BUILT</th>\n",
       "      <th>TAX CLASS AT TIME OF SALE</th>\n",
       "      <th>BUILDING CLASS AT TIME OF SALE</th>\n",
       "      <th>SALE DATE</th>\n",
       "      <th>SALE PRICE</th>\n",
       "    </tr>\n",
       "  </thead>\n",
       "  <tbody>\n",
       "    <tr>\n",
       "      <th>0</th>\n",
       "      <td>0</td>\n",
       "      <td>1</td>\n",
       "      <td>ALPHABET CITY</td>\n",
       "      <td>07 RENTALS - WALKUP APARTMENTS</td>\n",
       "      <td>2A</td>\n",
       "      <td>392</td>\n",
       "      <td>6</td>\n",
       "      <td></td>\n",
       "      <td>C2</td>\n",
       "      <td>153 AVENUE B</td>\n",
       "      <td>...</td>\n",
       "      <td>5</td>\n",
       "      <td>0</td>\n",
       "      <td>5</td>\n",
       "      <td>1633</td>\n",
       "      <td>6440</td>\n",
       "      <td>1900</td>\n",
       "      <td>2</td>\n",
       "      <td>C2</td>\n",
       "      <td>7/19/2017 0:00</td>\n",
       "      <td>6625000</td>\n",
       "    </tr>\n",
       "    <tr>\n",
       "      <th>1</th>\n",
       "      <td>1</td>\n",
       "      <td>1</td>\n",
       "      <td>ALPHABET CITY</td>\n",
       "      <td>07 RENTALS - WALKUP APARTMENTS</td>\n",
       "      <td>2</td>\n",
       "      <td>399</td>\n",
       "      <td>26</td>\n",
       "      <td></td>\n",
       "      <td>C7</td>\n",
       "      <td>234 EAST 4TH   STREET</td>\n",
       "      <td>...</td>\n",
       "      <td>28</td>\n",
       "      <td>3</td>\n",
       "      <td>31</td>\n",
       "      <td>4616</td>\n",
       "      <td>18690</td>\n",
       "      <td>1900</td>\n",
       "      <td>2</td>\n",
       "      <td>C7</td>\n",
       "      <td>12/14/2016 0:00</td>\n",
       "      <td>-</td>\n",
       "    </tr>\n",
       "    <tr>\n",
       "      <th>2</th>\n",
       "      <td>2</td>\n",
       "      <td>1</td>\n",
       "      <td>ALPHABET CITY</td>\n",
       "      <td>07 RENTALS - WALKUP APARTMENTS</td>\n",
       "      <td>2</td>\n",
       "      <td>399</td>\n",
       "      <td>39</td>\n",
       "      <td></td>\n",
       "      <td>C7</td>\n",
       "      <td>197 EAST 3RD   STREET</td>\n",
       "      <td>...</td>\n",
       "      <td>16</td>\n",
       "      <td>1</td>\n",
       "      <td>17</td>\n",
       "      <td>2212</td>\n",
       "      <td>7803</td>\n",
       "      <td>1900</td>\n",
       "      <td>2</td>\n",
       "      <td>C7</td>\n",
       "      <td>12/9/2016 0:00</td>\n",
       "      <td>-</td>\n",
       "    </tr>\n",
       "    <tr>\n",
       "      <th>3</th>\n",
       "      <td>4</td>\n",
       "      <td>1</td>\n",
       "      <td>ALPHABET CITY</td>\n",
       "      <td>07 RENTALS - WALKUP APARTMENTS</td>\n",
       "      <td>2A</td>\n",
       "      <td>404</td>\n",
       "      <td>55</td>\n",
       "      <td></td>\n",
       "      <td>C2</td>\n",
       "      <td>301 EAST 10TH   STREET</td>\n",
       "      <td>...</td>\n",
       "      <td>6</td>\n",
       "      <td>0</td>\n",
       "      <td>6</td>\n",
       "      <td>2369</td>\n",
       "      <td>4615</td>\n",
       "      <td>1900</td>\n",
       "      <td>2</td>\n",
       "      <td>C2</td>\n",
       "      <td>11/17/2016 0:00</td>\n",
       "      <td>8000000</td>\n",
       "    </tr>\n",
       "    <tr>\n",
       "      <th>4</th>\n",
       "      <td>5</td>\n",
       "      <td>1</td>\n",
       "      <td>ALPHABET CITY</td>\n",
       "      <td>07 RENTALS - WALKUP APARTMENTS</td>\n",
       "      <td>2</td>\n",
       "      <td>405</td>\n",
       "      <td>16</td>\n",
       "      <td></td>\n",
       "      <td>C4</td>\n",
       "      <td>516 EAST 12TH   STREET</td>\n",
       "      <td>...</td>\n",
       "      <td>20</td>\n",
       "      <td>0</td>\n",
       "      <td>20</td>\n",
       "      <td>2581</td>\n",
       "      <td>9730</td>\n",
       "      <td>1900</td>\n",
       "      <td>2</td>\n",
       "      <td>C4</td>\n",
       "      <td>7/20/2017 0:00</td>\n",
       "      <td>-</td>\n",
       "    </tr>\n",
       "  </tbody>\n",
       "</table>\n",
       "<p>5 rows × 22 columns</p>\n",
       "</div>"
      ],
      "text/plain": [
       "   ID  BOROUGH   NEIGHBORHOOD                      BUILDING CLASS CATEGORY  \\\n",
       "0   0        1  ALPHABET CITY  07 RENTALS - WALKUP APARTMENTS                \n",
       "1   1        1  ALPHABET CITY  07 RENTALS - WALKUP APARTMENTS                \n",
       "2   2        1  ALPHABET CITY  07 RENTALS - WALKUP APARTMENTS                \n",
       "3   4        1  ALPHABET CITY  07 RENTALS - WALKUP APARTMENTS                \n",
       "4   5        1  ALPHABET CITY  07 RENTALS - WALKUP APARTMENTS                \n",
       "\n",
       "  TAX CLASS AT PRESENT  BLOCK  LOT EASE-MENT BUILDING CLASS AT PRESENT  \\\n",
       "0                   2A    392    6                                  C2   \n",
       "1                    2    399   26                                  C7   \n",
       "2                    2    399   39                                  C7   \n",
       "3                   2A    404   55                                  C2   \n",
       "4                    2    405   16                                  C4   \n",
       "\n",
       "                  ADDRESS  ... RESIDENTIAL UNITS  COMMERCIAL UNITS  \\\n",
       "0            153 AVENUE B  ...                 5                 0   \n",
       "1   234 EAST 4TH   STREET  ...                28                 3   \n",
       "2   197 EAST 3RD   STREET  ...                16                 1   \n",
       "3  301 EAST 10TH   STREET  ...                 6                 0   \n",
       "4  516 EAST 12TH   STREET  ...                20                 0   \n",
       "\n",
       "   TOTAL UNITS  LAND SQUARE FEET  GROSS SQUARE FEET YEAR BUILT  \\\n",
       "0            5              1633               6440       1900   \n",
       "1           31              4616              18690       1900   \n",
       "2           17              2212               7803       1900   \n",
       "3            6              2369               4615       1900   \n",
       "4           20              2581               9730       1900   \n",
       "\n",
       "  TAX CLASS AT TIME OF SALE  BUILDING CLASS AT TIME OF SALE        SALE DATE  \\\n",
       "0                         2                              C2   7/19/2017 0:00   \n",
       "1                         2                              C7  12/14/2016 0:00   \n",
       "2                         2                              C7   12/9/2016 0:00   \n",
       "3                         2                              C2  11/17/2016 0:00   \n",
       "4                         2                              C4   7/20/2017 0:00   \n",
       "\n",
       "  SALE PRICE  \n",
       "0    6625000  \n",
       "1        -    \n",
       "2        -    \n",
       "3    8000000  \n",
       "4        -    \n",
       "\n",
       "[5 rows x 22 columns]"
      ]
     },
     "execution_count": 12,
     "metadata": {},
     "output_type": "execute_result"
    }
   ],
   "source": [
    "df.head()"
   ]
  },
  {
   "cell_type": "markdown",
   "id": "b110a6ee-30da-4442-a599-f57572464398",
   "metadata": {},
   "source": [
    "<h4>Importing another file</h4>"
   ]
  },
  {
   "cell_type": "code",
   "execution_count": 39,
   "id": "73be6159-2ada-4964-8734-562b41ee8a05",
   "metadata": {},
   "outputs": [],
   "source": [
    " df2 = pd.read_csv(\"C:/Users/dess/Downloads/csvfile.csv\")"
   ]
  },
  {
   "cell_type": "markdown",
   "id": "d04230b4-7518-498d-bf0e-dc0f1dda3235",
   "metadata": {},
   "source": [
    "#printing the first 5 menmbers of the csv file\n",
    "#print(\"\\n the first 5 members\")\n",
    "  df2.head()\n",
    "#printing the last 5 memebers of the csv\n",
    "#print(\"\\n the last 5 members\")\n",
    "   df2.tail()"
   ]
  },
  {
   "cell_type": "code",
   "execution_count": 38,
   "id": "d7b588fe-1b9e-48be-b893-71ee00a11603",
   "metadata": {},
   "outputs": [
    {
     "name": "stdout",
     "output_type": "stream",
     "text": [
      "       Id  size (sq.m)  noBed    SalePrice\n",
      "0    1461          100      2  169277.0525\n",
      "1    1462          120      2  187758.3940\n",
      "2    1463           88      2  183583.6836\n",
      "3    1464           94      2  179317.4775\n",
      "4    1465          100      2  150730.0800\n",
      "..    ...          ...    ...          ...\n",
      "243  1704           94      2  177199.6186\n",
      "244  1705          100      2  181878.6480\n",
      "245  1706          120      2  173622.0887\n",
      "246  1707           88      2  180728.1686\n",
      "247  1708           94      2  176477.0266\n",
      "\n",
      "[248 rows x 4 columns]\n"
     ]
    }
   ],
   "source": [
    "# printing both first and last 5 members \n",
    "print(df2)"
   ]
  },
  {
   "cell_type": "code",
   "execution_count": 17,
   "id": "b87c89bb-cc4b-48e8-829a-1af01ef2920b",
   "metadata": {},
   "outputs": [
    {
     "data": {
      "text/plain": [
       "(248, 4)"
      ]
     },
     "execution_count": 17,
     "metadata": {},
     "output_type": "execute_result"
    }
   ],
   "source": [
    "#Row size and column size\n",
    "df.shape"
   ]
  },
  {
   "cell_type": "code",
   "execution_count": 18,
   "id": "e9dbfa05-9d3d-4cb0-8df5-f8f71d421e52",
   "metadata": {},
   "outputs": [
    {
     "data": {
      "text/plain": [
       "noBed\n",
       "1    24\n",
       "2    85\n",
       "3    36\n",
       "4    17\n",
       "5    10\n",
       "6    29\n",
       "7    22\n",
       "8    21\n",
       "9     4\n",
       "Name: noBed, dtype: int64"
      ]
     },
     "execution_count": 18,
     "metadata": {},
     "output_type": "execute_result"
    }
   ],
   "source": [
    "#printing on some condition\n",
    "df.groupby('noBed')['noBed'].agg('count')"
   ]
  },
  {
   "cell_type": "code",
   "execution_count": 19,
   "id": "506e9dc7-e64e-4edd-8432-e82b571eaf47",
   "metadata": {},
   "outputs": [
    {
     "name": "stdout",
     "output_type": "stream",
     "text": [
      "Empty DataFrame\n",
      "Columns: [Id, size (sq.m), noBed, SalePrice, Description]\n",
      "Index: []\n"
     ]
    }
   ],
   "source": [
    "#Updating\n",
    "# updating a value\n",
    "df.loc[df['Id'] == 'Number', 'Description'] = 'Updated Description'\n",
    "print(df[df['Id'] == 'Number'])"
   ]
  },
  {
   "cell_type": "code",
   "execution_count": 20,
   "id": "ec444f16-ed4c-4a02-b9b0-070eda4d3d99",
   "metadata": {},
   "outputs": [],
   "source": [
    "# Deleting columns by name\n",
    "# df2 = df.drop(['noBed','SalePrice', 'Id'], axis='columns')"
   ]
  },
  {
   "cell_type": "code",
   "execution_count": 21,
   "id": "e9ef4f22-3ec4-4edb-854a-ce3b95c2fcdf",
   "metadata": {},
   "outputs": [
    {
     "data": {
      "text/plain": [
       "Id             0\n",
       "size (sq.m)    0\n",
       "noBed          0\n",
       "SalePrice      0\n",
       "Description    0\n",
       "dtype: int64"
      ]
     },
     "execution_count": 21,
     "metadata": {},
     "output_type": "execute_result"
    }
   ],
   "source": [
    "#checking missing value or null value\n",
    "df.isnull().sum()"
   ]
  },
  {
   "cell_type": "code",
   "execution_count": 22,
   "id": "473a77f2-a3df-48a7-b33c-90e1c59318de",
   "metadata": {},
   "outputs": [
    {
     "data": {
      "text/plain": [
       "Index(['Id', 'size (sq.m)', 'noBed', 'SalePrice', 'Description'], dtype='object')"
      ]
     },
     "execution_count": 22,
     "metadata": {},
     "output_type": "execute_result"
    }
   ],
   "source": [
    "# checking number of columns\n",
    "df.columns"
   ]
  },
  {
   "cell_type": "code",
   "execution_count": 23,
   "id": "cc875c8f-15a9-4af6-9e6d-2c60cb576924",
   "metadata": {},
   "outputs": [],
   "source": [
    "#rename a column name\n",
    "df.rename(columns={\"noBed\":\"Beds\"}, inplace=True)"
   ]
  },
  {
   "cell_type": "code",
   "execution_count": 24,
   "id": "03bec61c-277c-4a0d-9ba6-4c3957da8b53",
   "metadata": {},
   "outputs": [
    {
     "data": {
      "text/plain": [
       "Index(['Id', 'size (sq.m)', 'Beds', 'SalePrice', 'Description'], dtype='object')"
      ]
     },
     "execution_count": 24,
     "metadata": {},
     "output_type": "execute_result"
    }
   ],
   "source": [
    "# checking number of columns\n",
    "df.columns"
   ]
  },
  {
   "cell_type": "markdown",
   "id": "c4d05bf7-65d1-41ec-9b83-b5a7076f785d",
   "metadata": {},
   "source": [
    "<h4>\n",
    "    Creating dummy data for house prediction in Addis Ababa\n",
    "</h4>"
   ]
  },
  {
   "cell_type": "code",
   "execution_count": 25,
   "id": "0f281435-4dee-4948-b551-c2e507797d95",
   "metadata": {},
   "outputs": [],
   "source": [
    "\r\n",
    "\r\n",
    "# Create a function to generate dumme(data)\r\n",
    "\r\n",
    "# Generate dummy data for my_dat0a(10)\r\n",
    "\r\n",
    "# Print tint(dummy_data)"
   ]
  },
  {
   "cell_type": "code",
   "execution_count": 27,
   "id": "78ae3c54-dcc9-4aa5-84da-6427a5c01707",
   "metadata": {
    "scrolled": true
   },
   "outputs": [
    {
     "ename": "IndentationError",
     "evalue": "unindent does not match any outer indentation level (<tokenize>, line 19)",
     "output_type": "error",
     "traceback": [
      "\u001b[1;36m  File \u001b[1;32m<tokenize>:19\u001b[1;36m\u001b[0m\n\u001b[1;33m    addis_ababa_dummy_data = generate_dummy_data(100)\u001b[0m\n\u001b[1;37m    ^\u001b[0m\n\u001b[1;31mIndentationError\u001b[0m\u001b[1;31m:\u001b[0m unindent does not match any outer indentation level\n"
     ]
    }
   ],
   "source": [
    "# Create a function to generate dummy data for Addis Ababa house prediction\n",
    "def generate_dummy_data(number_size):\n",
    "    districts = ['Bole', 'Arada', 'Akaki', 'Lideta', 'Arabssa']\n",
    "    areas = np.random.randint(50, 300, size=number_size)\n",
    "    bedrooms = np.random.randint(1, 5, size=number_size)\n",
    "    bathrooms = np.random.randint(1, 4, size=number_size)\n",
    "    prices = np.random.randint(100000, 1000000, size=number_size)\n",
    "    \n",
    "    data = {\n",
    "        'Place': np.random.choice(districts, size=number_size),\n",
    "        'Area': areas,\n",
    "        'Bedrooms': bedrooms,\n",
    "        'Bathrooms': bathrooms,\n",
    "        'Price': prices\n",
    "    }\n",
    "    return pd.DataFrame(data)\n",
    "\n",
    "# Generate dummy data for Addis Ababa house prediction\n",
    " addis_ababa_dummy_data = generate_dummy_data(100)\n",
    "\n",
    "# Print the dummy data\n",
    "print(addis_ababa_dummy_data)"
   ]
  },
  {
   "cell_type": "code",
   "execution_count": null,
   "id": "892f5058-c21d-435b-8488-4cc3077dfd67",
   "metadata": {},
   "outputs": [],
   "source": [
    "# Saving the DataFrame to a CSV file\n",
    "addis_ababa_dummy_data.to_csv('Addis_Ababa_house_data.csv', index=False)\n",
    "\n",
    "print(addis_ababa_dummy_data.head(100))#returns the first 100 rows just for demonstrating purpose."
   ]
  },
  {
   "cell_type": "code",
   "execution_count": null,
   "id": "f78c36a0-66de-429d-82ef-e63e705d3cb1",
   "metadata": {},
   "outputs": [],
   "source": []
  },
  {
   "cell_type": "code",
   "execution_count": null,
   "id": "9aa14154-33b7-4910-8248-1e4d8b172687",
   "metadata": {},
   "outputs": [],
   "source": []
  },
  {
   "cell_type": "code",
   "execution_count": null,
   "id": "134103d6-33f2-4b41-a638-001fc4d7b223",
   "metadata": {},
   "outputs": [],
   "source": []
  }
 ],
 "metadata": {
  "kernelspec": {
   "display_name": "Python 3 (ipykernel)",
   "language": "python",
   "name": "python3"
  },
  "language_info": {
   "codemirror_mode": {
    "name": "ipython",
    "version": 3
   },
   "file_extension": ".py",
   "mimetype": "text/x-python",
   "name": "python",
   "nbconvert_exporter": "python",
   "pygments_lexer": "ipython3",
   "version": "3.11.7"
  }
 },
 "nbformat": 4,
 "nbformat_minor": 5
}
